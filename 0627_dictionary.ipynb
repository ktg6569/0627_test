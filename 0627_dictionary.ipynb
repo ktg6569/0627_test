{
  "nbformat": 4,
  "nbformat_minor": 0,
  "metadata": {
    "colab": {
      "provenance": [],
      "authorship_tag": "ABX9TyPjxygtRGdkQNlKZnMtVB/s",
      "include_colab_link": true
    },
    "kernelspec": {
      "name": "python3",
      "display_name": "Python 3"
    },
    "language_info": {
      "name": "python"
    }
  },
  "cells": [
    {
      "cell_type": "markdown",
      "metadata": {
        "id": "view-in-github",
        "colab_type": "text"
      },
      "source": [
        "<a href=\"https://colab.research.google.com/github/ktg6569/0627_test/blob/main/0627_dictionary.ipynb\" target=\"_parent\"><img src=\"https://colab.research.google.com/assets/colab-badge.svg\" alt=\"Open In Colab\"/></a>"
      ]
    },
    {
      "cell_type": "markdown",
      "source": [
        "딕셔너리"
      ],
      "metadata": {
        "id": "2xbzL1dDy_uV"
      }
    },
    {
      "cell_type": "markdown",
      "source": [
        "딕셔너리 만들기"
      ],
      "metadata": {
        "id": "q0ZEwICNzLSS"
      }
    },
    {
      "cell_type": "code",
      "execution_count": 14,
      "metadata": {
        "colab": {
          "base_uri": "https://localhost:8080/"
        },
        "id": "1Ku1aypOyNVX",
        "outputId": "b372582c-d6ff-4db8-f50a-e339dba8871a"
      },
      "outputs": [
        {
          "output_type": "stream",
          "name": "stdout",
          "text": [
            "{'brand': 'Ford', 'model': 'Mustang', 'year': 1964}\n"
          ]
        }
      ],
      "source": [
        "thisdict = {\n",
        "  \"brand\": \"Ford\",\n",
        "  \"model\": \"Mustang\",\n",
        "  \"year\": 1964\n",
        "}\n",
        "print(thisdict)"
      ]
    },
    {
      "cell_type": "markdown",
      "source": [
        "딕셔너리 키 수정"
      ],
      "metadata": {
        "id": "5DPFBDShzNsK"
      }
    },
    {
      "cell_type": "code",
      "source": [
        "thisdict = {\n",
        "  \"brand\": \"Ford\",\n",
        "  \"model\": \"Mustang\",\n",
        "  \"year\": 1964\n",
        "}\n",
        "print(thisdict[\"brand\"])"
      ],
      "metadata": {
        "colab": {
          "base_uri": "https://localhost:8080/"
        },
        "id": "MbS9QVdKzsSy",
        "outputId": "8ab28f43-b865-459f-9f25-c8e01f222fd1"
      },
      "execution_count": 15,
      "outputs": [
        {
          "output_type": "stream",
          "name": "stdout",
          "text": [
            "Ford\n"
          ]
        }
      ]
    },
    {
      "cell_type": "markdown",
      "source": [
        "중복은 허용되지 않는다"
      ],
      "metadata": {
        "id": "bd8YPvSIz7jB"
      }
    },
    {
      "cell_type": "code",
      "source": [
        "thisdict = {\n",
        "  \"brand\": \"Ford\",\n",
        "  \"model\": \"Mustang\",\n",
        "  \"year\": 1964,\n",
        "  \"year\": 2020\n",
        "}\n",
        "print(thisdict)"
      ],
      "metadata": {
        "colab": {
          "base_uri": "https://localhost:8080/"
        },
        "id": "yl8ud3ECz84F",
        "outputId": "39c27f6c-3612-48fb-8a66-98ef9460d30e"
      },
      "execution_count": 16,
      "outputs": [
        {
          "output_type": "stream",
          "name": "stdout",
          "text": [
            "{'brand': 'Ford', 'model': 'Mustang', 'year': 2020}\n"
          ]
        }
      ]
    },
    {
      "cell_type": "markdown",
      "source": [
        "딕셔너리의 항목의 데이터유형은 모두 가능"
      ],
      "metadata": {
        "id": "EAXnu_hV0B-9"
      }
    },
    {
      "cell_type": "code",
      "source": [
        "thisdict = {\n",
        "  \"brand\": \"Ford\",\n",
        "  \"electric\": False,\n",
        "  \"year\": 1964,\n",
        "  \"colors\": [\"red\", \"white\", \"blue\"]\n",
        "}"
      ],
      "metadata": {
        "id": "IZ6s-Xbk0E_4"
      },
      "execution_count": 17,
      "outputs": []
    },
    {
      "cell_type": "markdown",
      "source": [
        "딕셔너리의 데이터 유형은 dict"
      ],
      "metadata": {
        "id": "DsFblMD80JjD"
      }
    },
    {
      "cell_type": "code",
      "source": [
        "thisdict = {\n",
        "  \"brand\": \"Ford\",\n",
        "  \"model\": \"Mustang\",\n",
        "  \"year\": 1964\n",
        "}\n",
        "print(type(thisdict))"
      ],
      "metadata": {
        "colab": {
          "base_uri": "https://localhost:8080/"
        },
        "id": "TkwE1XXz0MyO",
        "outputId": "1bccc8c0-8889-4809-95a6-80e77a3a6329"
      },
      "execution_count": 18,
      "outputs": [
        {
          "output_type": "stream",
          "name": "stdout",
          "text": [
            "<class 'dict'>\n"
          ]
        }
      ]
    },
    {
      "cell_type": "markdown",
      "source": [
        "dict 생성자 사용도 가능함"
      ],
      "metadata": {
        "id": "GWqJU3Oe0WPN"
      }
    },
    {
      "cell_type": "code",
      "source": [
        "thisdict = dict(name = \"John\", age = 36, country = \"Norway\")\n",
        "print(thisdict)"
      ],
      "metadata": {
        "colab": {
          "base_uri": "https://localhost:8080/"
        },
        "id": "9IzlegpU0XiB",
        "outputId": "571a1cde-7182-4754-bddd-ceace9e27376"
      },
      "execution_count": 19,
      "outputs": [
        {
          "output_type": "stream",
          "name": "stdout",
          "text": [
            "{'name': 'John', 'age': 36, 'country': 'Norway'}\n"
          ]
        }
      ]
    },
    {
      "cell_type": "markdown",
      "source": [
        "딕셔너리의 키의 값으로 액세스 가능"
      ],
      "metadata": {
        "id": "ZpNN2ewV1H0x"
      }
    },
    {
      "cell_type": "code",
      "source": [
        "thisdict = {\n",
        "  \"brand\": \"Ford\",\n",
        "  \"model\": \"Mustang\",\n",
        "  \"year\": 1964\n",
        "}\n",
        "x = thisdict[\"model\"]\n",
        "\n",
        "x = thisdict.get(\"model\")\n",
        "\n",
        "x = thisdict.keys()"
      ],
      "metadata": {
        "id": "oqUmMnWV1V1F"
      },
      "execution_count": 20,
      "outputs": []
    },
    {
      "cell_type": "markdown",
      "source": [
        "새 항목으로 업데이트"
      ],
      "metadata": {
        "id": "wZ4O-Seb1d79"
      }
    },
    {
      "cell_type": "code",
      "source": [
        "car = {\n",
        "\"brand\": \"Ford\",\n",
        "\"model\": \"Mustang\",\n",
        "\"year\": 1964\n",
        "}\n",
        "\n",
        "x = car.keys()\n",
        "\n",
        "print(x) #before the change\n",
        "\n",
        "car[\"color\"] = \"white\"\n",
        "\n",
        "print(x) #after the change"
      ],
      "metadata": {
        "colab": {
          "base_uri": "https://localhost:8080/"
        },
        "id": "5CzWa4qk1gP5",
        "outputId": "7a532c73-f789-4543-cf23-38ea6e0d8d15"
      },
      "execution_count": 21,
      "outputs": [
        {
          "output_type": "stream",
          "name": "stdout",
          "text": [
            "dict_keys(['brand', 'model', 'year'])\n",
            "dict_keys(['brand', 'model', 'year', 'color'])\n"
          ]
        }
      ]
    },
    {
      "cell_type": "markdown",
      "source": [
        "딕셔너리의 모든 값 반환"
      ],
      "metadata": {
        "id": "xKeQ_AIj1rCk"
      }
    },
    {
      "cell_type": "code",
      "source": [
        "car = {\n",
        "\"brand\": \"Ford\",\n",
        "\"model\": \"Mustang\",\n",
        "\"year\": 1964\n",
        "}\n",
        "\n",
        "x = car.values()\n",
        "\n",
        "print(x) #before the change\n",
        "\n",
        "car[\"year\"] = 2020\n",
        "\n",
        "print(x) #after the change"
      ],
      "metadata": {
        "colab": {
          "base_uri": "https://localhost:8080/"
        },
        "id": "GNtDoOkr1vyN",
        "outputId": "e4f7ac9c-bb20-4a7a-d7af-4a3005e773ef"
      },
      "execution_count": 22,
      "outputs": [
        {
          "output_type": "stream",
          "name": "stdout",
          "text": [
            "dict_values(['Ford', 'Mustang', 1964])\n",
            "dict_values(['Ford', 'Mustang', 2020])\n"
          ]
        }
      ]
    },
    {
      "cell_type": "markdown",
      "source": [
        "키:값 목록 가져올때 items() 사용"
      ],
      "metadata": {
        "id": "fNa6DwfV2iSV"
      }
    },
    {
      "cell_type": "code",
      "source": [
        "car = {\n",
        "\"brand\": \"Ford\",\n",
        "\"model\": \"Mustang\",\n",
        "\"year\": 1964\n",
        "}\n",
        "\n",
        "x = car.items()\n",
        "\n",
        "print(x) #before the change\n",
        "\n",
        "car[\"year\"] = 2020\n",
        "\n",
        "print(x) #after the change"
      ],
      "metadata": {
        "colab": {
          "base_uri": "https://localhost:8080/"
        },
        "id": "ZA4zcNq12oDa",
        "outputId": "0b373eba-cf8b-403c-c38b-93d6a519ff8a"
      },
      "execution_count": 23,
      "outputs": [
        {
          "output_type": "stream",
          "name": "stdout",
          "text": [
            "dict_items([('brand', 'Ford'), ('model', 'Mustang'), ('year', 1964)])\n",
            "dict_items([('brand', 'Ford'), ('model', 'Mustang'), ('year', 2020)])\n"
          ]
        }
      ]
    },
    {
      "cell_type": "markdown",
      "source": [
        "딕셔너리에 키 찾을 때 in 사용"
      ],
      "metadata": {
        "id": "IN14f2fl23ZT"
      }
    },
    {
      "cell_type": "code",
      "source": [
        "thisdict = {\n",
        "  \"brand\": \"Ford\",\n",
        "  \"model\": \"Mustang\",\n",
        "  \"year\": 1964\n",
        "}\n",
        "if \"model\" in thisdict:\n",
        "  print(\"Yes, 'model' is one of the keys in the thisdict dictionary\")"
      ],
      "metadata": {
        "colab": {
          "base_uri": "https://localhost:8080/"
        },
        "id": "Jt0EvAZe28Xj",
        "outputId": "8ec9667a-be70-4ec5-a9d9-e7eb56afc61c"
      },
      "execution_count": 24,
      "outputs": [
        {
          "output_type": "stream",
          "name": "stdout",
          "text": [
            "Yes, 'model' is one of the keys in the thisdict dictionary\n"
          ]
        }
      ]
    },
    {
      "cell_type": "markdown",
      "source": [
        "딕셔너리 업데이트 update() 사용"
      ],
      "metadata": {
        "id": "cgLZREDt3NFu"
      }
    },
    {
      "cell_type": "code",
      "source": [
        "thisdict = {\n",
        "  \"brand\": \"Ford\",\n",
        "  \"model\": \"Mustang\",\n",
        "  \"year\": 1964\n",
        "}\n",
        "thisdict.update({\"year\": 2020})"
      ],
      "metadata": {
        "id": "RjxBfiAt3QDk"
      },
      "execution_count": 25,
      "outputs": []
    },
    {
      "cell_type": "markdown",
      "source": [
        "항목제거는 pop()사용"
      ],
      "metadata": {
        "id": "RUoIV9No6tn2"
      }
    },
    {
      "cell_type": "code",
      "source": [
        "thisdict = {\n",
        "  \"brand\": \"Ford\",\n",
        "  \"model\": \"Mustang\",\n",
        "  \"year\": 1964\n",
        "}\n",
        "thisdict.pop(\"model\")\n",
        "print(thisdict)"
      ],
      "metadata": {
        "colab": {
          "base_uri": "https://localhost:8080/"
        },
        "id": "9oup-KV-6vZl",
        "outputId": "67398e4c-b274-49b9-e517-6f03a3f0e494"
      },
      "execution_count": 26,
      "outputs": [
        {
          "output_type": "stream",
          "name": "stdout",
          "text": [
            "{'brand': 'Ford', 'year': 1964}\n"
          ]
        }
      ]
    },
    {
      "cell_type": "markdown",
      "source": [
        "마지막으로 삽입된 항목제거는 popitem()사용"
      ],
      "metadata": {
        "id": "ynB2M1eg6yCo"
      }
    },
    {
      "cell_type": "code",
      "source": [
        "thisdict = {\n",
        "  \"brand\": \"Ford\",\n",
        "  \"model\": \"Mustang\",\n",
        "  \"year\": 1964\n",
        "}\n",
        "thisdict.popitem()\n",
        "print(thisdict)"
      ],
      "metadata": {
        "colab": {
          "base_uri": "https://localhost:8080/"
        },
        "id": "5W7izIio62Kh",
        "outputId": "9656551e-327e-49ab-ae60-7623b3cba386"
      },
      "execution_count": 27,
      "outputs": [
        {
          "output_type": "stream",
          "name": "stdout",
          "text": [
            "{'brand': 'Ford', 'model': 'Mustang'}\n"
          ]
        }
      ]
    },
    {
      "cell_type": "markdown",
      "source": [
        "지정된 키 이름 항목제거는 del 사용"
      ],
      "metadata": {
        "id": "j2wO1BDW620G"
      }
    },
    {
      "cell_type": "code",
      "source": [
        "thisdict = {\n",
        "  \"brand\": \"Ford\",\n",
        "  \"model\": \"Mustang\",\n",
        "  \"year\": 1964\n",
        "}\n",
        "del thisdict[\"model\"]\n",
        "print(thisdict)"
      ],
      "metadata": {
        "colab": {
          "base_uri": "https://localhost:8080/"
        },
        "id": "7lwFgIh57Ju_",
        "outputId": "c870977f-84c3-481b-8234-9f9c6b358b0b"
      },
      "execution_count": 28,
      "outputs": [
        {
          "output_type": "stream",
          "name": "stdout",
          "text": [
            "{'brand': 'Ford', 'year': 1964}\n"
          ]
        }
      ]
    },
    {
      "cell_type": "markdown",
      "source": [
        "딕셔너리 완전히 삭제도 가능"
      ],
      "metadata": {
        "id": "N-AV8PHd7nXV"
      }
    },
    {
      "cell_type": "code",
      "source": [
        "thisdict = {\n",
        "  \"brand\": \"Ford\",\n",
        "  \"model\": \"Mustang\",\n",
        "  \"year\": 1964\n",
        "}\n",
        "del thisdict\n",
        "print(thisdict) #this will cause an error because \"thisdict\" no longer exists."
      ],
      "metadata": {
        "colab": {
          "base_uri": "https://localhost:8080/",
          "height": 183
        },
        "id": "2pxeXiup7pX2",
        "outputId": "916f9599-22ab-4f01-9013-82473ce0c97b"
      },
      "execution_count": 29,
      "outputs": [
        {
          "output_type": "error",
          "ename": "NameError",
          "evalue": "name 'thisdict' is not defined",
          "traceback": [
            "\u001b[0;31m---------------------------------------------------------------------------\u001b[0m",
            "\u001b[0;31mNameError\u001b[0m                                 Traceback (most recent call last)",
            "\u001b[0;32m/tmp/ipython-input-29-3866571252.py\u001b[0m in \u001b[0;36m<cell line: 0>\u001b[0;34m()\u001b[0m\n\u001b[1;32m      5\u001b[0m }\n\u001b[1;32m      6\u001b[0m \u001b[0;32mdel\u001b[0m \u001b[0mthisdict\u001b[0m\u001b[0;34m\u001b[0m\u001b[0;34m\u001b[0m\u001b[0m\n\u001b[0;32m----> 7\u001b[0;31m \u001b[0mprint\u001b[0m\u001b[0;34m(\u001b[0m\u001b[0mthisdict\u001b[0m\u001b[0;34m)\u001b[0m \u001b[0;31m#this will cause an error because \"thisdict\" no longer exists.\u001b[0m\u001b[0;34m\u001b[0m\u001b[0;34m\u001b[0m\u001b[0m\n\u001b[0m",
            "\u001b[0;31mNameError\u001b[0m: name 'thisdict' is not defined"
          ]
        }
      ]
    },
    {
      "cell_type": "markdown",
      "source": [
        "딕셔너리 비우기는 claer()"
      ],
      "metadata": {
        "id": "oN8FL1xE7rcy"
      }
    },
    {
      "cell_type": "code",
      "source": [
        "thisdict = {\n",
        "  \"brand\": \"Ford\",\n",
        "  \"model\": \"Mustang\",\n",
        "  \"year\": 1964\n",
        "}\n",
        "thisdict.clear()\n",
        "print(thisdict)\n"
      ],
      "metadata": {
        "colab": {
          "base_uri": "https://localhost:8080/"
        },
        "id": "78k5XR0q7s7R",
        "outputId": "bc535494-9fff-42cb-f5e2-0ea81a8e65f7"
      },
      "execution_count": 30,
      "outputs": [
        {
          "output_type": "stream",
          "name": "stdout",
          "text": [
            "{}\n"
          ]
        }
      ]
    },
    {
      "cell_type": "markdown",
      "source": [
        "for문으로 딕셔너리 여러개 출력가능"
      ],
      "metadata": {
        "id": "BWw--R9GBkAV"
      }
    },
    {
      "cell_type": "code",
      "source": [
        "for x in thisdict:\n",
        "  print(x)"
      ],
      "metadata": {
        "id": "Udhl5Y5PBvKd"
      },
      "execution_count": null,
      "outputs": []
    },
    {
      "cell_type": "markdown",
      "source": [
        "copy()를사용해서 딕셔너리 복사본 만들기"
      ],
      "metadata": {
        "id": "macm6kRrB0le"
      }
    },
    {
      "cell_type": "code",
      "source": [
        "thisdict = {\n",
        "  \"brand\": \"Ford\",\n",
        "  \"model\": \"Mustang\",\n",
        "  \"year\": 1964\n",
        "}\n",
        "mydict = thisdict.copy()\n",
        "print(mydict)"
      ],
      "metadata": {
        "id": "pnpk9pUYB_tH"
      },
      "execution_count": null,
      "outputs": []
    },
    {
      "cell_type": "markdown",
      "source": [
        "내장함수 dict()사용으로 복사본 만들기"
      ],
      "metadata": {
        "id": "PBHHB-P9CkfI"
      }
    },
    {
      "cell_type": "code",
      "source": [
        "thisdict = {\n",
        "  \"brand\": \"Ford\",\n",
        "  \"model\": \"Mustang\",\n",
        "  \"year\": 1964\n",
        "}\n",
        "mydict = dict(thisdict)\n",
        "print(mydict)"
      ],
      "metadata": {
        "id": "98mE1NDLCm5z"
      },
      "execution_count": null,
      "outputs": []
    },
    {
      "cell_type": "markdown",
      "source": [
        "3개의 사전을 포함하는 사전 만들기"
      ],
      "metadata": {
        "id": "r-P0waIPCw7K"
      }
    },
    {
      "cell_type": "code",
      "source": [],
      "metadata": {
        "id": "rU9rEXjtDVD5"
      },
      "execution_count": null,
      "outputs": []
    },
    {
      "cell_type": "code",
      "source": [
        "myfamily = {\n",
        "  \"child1\" : {\n",
        "    \"name\" : \"Emil\",\n",
        "    \"year\" : 2004\n",
        "  },\n",
        "  \"child2\" : {\n",
        "    \"name\" : \"Tobias\",\n",
        "    \"year\" : 2007\n",
        "  },\n",
        "  \"child3\" : {\n",
        "    \"name\" : \"Linus\",\n",
        "    \"year\" : 2011\n",
        "  }\n",
        "}"
      ],
      "metadata": {
        "id": "xJWiTpC2CyYc"
      },
      "execution_count": null,
      "outputs": []
    },
    {
      "cell_type": "markdown",
      "source": [
        "1.교차로에서 신호등에 따른 행동 판단"
      ],
      "metadata": {
        "id": "N8yOwI3TFfZ6"
      }
    },
    {
      "cell_type": "code",
      "source": [
        "signals = {\n",
        "    \"A\": \"red\",\n",
        "    \"B\": \"green\",\n",
        "    \"C\": \"yellow\"\n",
        "}\n",
        "\n",
        "for location, signal in signals.items():\n",
        "    if signal == \"red\":\n",
        "        print(f\"{location} 교차로: 정지\")\n",
        "    elif signal == \"green\":\n",
        "        print(f\"{location} 교차로: 진행\")\n",
        "    elif signal == \"yellow\":\n",
        "        print(f\"{location} 교차로: 감속\")\n"
      ],
      "metadata": {
        "id": "-kxFRcsEFmx-"
      },
      "execution_count": null,
      "outputs": []
    },
    {
      "cell_type": "markdown",
      "source": [
        "2.도로상황에 따른 주행 모드 결정"
      ],
      "metadata": {
        "id": "lHXaGuBKFnnD"
      }
    },
    {
      "cell_type": "code",
      "source": [
        "road_conditions = {\n",
        "    \"dry\": \"normal\",\n",
        "    \"wet\": \"caution\",\n",
        "    \"snow\": \"slow\"\n",
        "}\n",
        "\n",
        "condition = \"snow\"\n",
        "\n",
        "if condition in road_conditions:\n",
        "    print(f\"현재 도로 상태: {condition}, 주행 모드: {road_conditions[condition]}\")\n"
      ],
      "metadata": {
        "id": "5VQg5KnIFtWZ"
      },
      "execution_count": null,
      "outputs": []
    },
    {
      "cell_type": "markdown",
      "source": [
        "3.속도제한 표지판 인식 후 속도 조절"
      ],
      "metadata": {
        "id": "T-hnkxe8Fu1Z"
      }
    },
    {
      "cell_type": "code",
      "source": [
        "speed_limits = {\n",
        "    \"school_zone\": 30,\n",
        "    \"highway\": 100,\n",
        "    \"residential\": 50\n",
        "}\n",
        "\n",
        "current_area = \"school_zone\"\n",
        "\n",
        "if current_area in speed_limits:\n",
        "    print(f\"{current_area} 구역 감지됨 → 속도 제한: {speed_limits[current_area]}km/h\")\n"
      ],
      "metadata": {
        "id": "WbvsKF4HFwMs"
      },
      "execution_count": null,
      "outputs": []
    },
    {
      "cell_type": "markdown",
      "source": [
        "4. 장애물 종류에 따른 회피 방법 출력"
      ],
      "metadata": {
        "id": "m558ZQ9nF0jI"
      }
    },
    {
      "cell_type": "code",
      "source": [
        "obstacles = {\n",
        "    \"고양이\": \"정지\",\n",
        "    \"사람\": \"정지 후 경고음\",\n",
        "    \"플라스틱 박스\": \"우회\"\n",
        "}\n",
        "\n",
        "for obj, action in obstacles.items():\n",
        "    print(f\"장애물 '{obj}' 감지 → 조치: {action}\")\n"
      ],
      "metadata": {
        "id": "xPulL6SwF120"
      },
      "execution_count": null,
      "outputs": []
    },
    {
      "cell_type": "markdown",
      "source": [
        "5. 주행 경로상의 좌표별 행동 지시"
      ],
      "metadata": {
        "id": "n_7ktYxrF2Ut"
      }
    },
    {
      "cell_type": "code",
      "source": [
        "route = {\n",
        "    (0, 0): \"출발\",\n",
        "    (10, 5): \"좌회전\",\n",
        "    (20, 10): \"감속\",\n",
        "    (30, 15): \"정지\"\n",
        "}\n",
        "\n",
        "for coord, command in route.items():\n",
        "    print(f\"좌표 {coord} → 명령: {command}\")\n"
      ],
      "metadata": {
        "id": "SMoHRv6YF39B"
      },
      "execution_count": null,
      "outputs": []
    }
  ]
}