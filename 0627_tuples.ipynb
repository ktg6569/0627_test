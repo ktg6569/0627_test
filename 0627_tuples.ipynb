{
  "nbformat": 4,
  "nbformat_minor": 0,
  "metadata": {
    "colab": {
      "provenance": [],
      "authorship_tag": "ABX9TyNtfJNOSxiSgBt+0FjIcMzm",
      "include_colab_link": true
    },
    "kernelspec": {
      "name": "python3",
      "display_name": "Python 3"
    },
    "language_info": {
      "name": "python"
    }
  },
  "cells": [
    {
      "cell_type": "markdown",
      "metadata": {
        "id": "view-in-github",
        "colab_type": "text"
      },
      "source": [
        "<a href=\"https://colab.research.google.com/github/ktg6569/0627_test/blob/main/0627_tuples.ipynb\" target=\"_parent\"><img src=\"https://colab.research.google.com/assets/colab-badge.svg\" alt=\"Open In Colab\"/></a>"
      ]
    },
    {
      "cell_type": "markdown",
      "source": [
        "튜플 생성"
      ],
      "metadata": {
        "id": "XQQ_y7mPGFrI"
      }
    },
    {
      "cell_type": "code",
      "execution_count": 13,
      "metadata": {
        "colab": {
          "base_uri": "https://localhost:8080/"
        },
        "id": "BgFkon7gEnf7",
        "outputId": "420b9938-5f55-4f8d-d8ad-33e2676ba161"
      },
      "outputs": [
        {
          "output_type": "stream",
          "name": "stdout",
          "text": [
            "('apple', 'banana', 'cherry')\n"
          ]
        }
      ],
      "source": [
        "thistuple = (\"apple\", \"banana\", \"cherry\")\n",
        "print(thistuple)"
      ]
    },
    {
      "cell_type": "markdown",
      "source": [
        "튜플은 중복o 변경 x"
      ],
      "metadata": {
        "id": "z3dEqI8cGIde"
      }
    },
    {
      "cell_type": "code",
      "source": [
        "thistuple = (\"apple\", \"banana\", \"cherry\", \"apple\", \"cherry\")\n",
        "print(thistuple)"
      ],
      "metadata": {
        "colab": {
          "base_uri": "https://localhost:8080/"
        },
        "id": "Jikfe302GONw",
        "outputId": "b833a05f-ded0-442d-f95d-36b6692b52a9"
      },
      "execution_count": 14,
      "outputs": [
        {
          "output_type": "stream",
          "name": "stdout",
          "text": [
            "('apple', 'banana', 'cherry', 'apple', 'cherry')\n"
          ]
        }
      ]
    },
    {
      "cell_type": "markdown",
      "source": [
        "항목이 하나만 있는 튜플을 만들때는 쉼표 추가"
      ],
      "metadata": {
        "id": "uoZXJAXWGY-H"
      }
    },
    {
      "cell_type": "code",
      "source": [
        "thistuple = (\"apple\",)\n",
        "print(type(thistuple))\n"
      ],
      "metadata": {
        "colab": {
          "base_uri": "https://localhost:8080/"
        },
        "id": "ir4zM4CSGa1J",
        "outputId": "ce6ac08f-3427-41d6-bef9-2c9bb652daea"
      },
      "execution_count": 15,
      "outputs": [
        {
          "output_type": "stream",
          "name": "stdout",
          "text": [
            "<class 'tuple'>\n"
          ]
        }
      ]
    },
    {
      "cell_type": "markdown",
      "source": [
        "튜플의 유형은 tuple"
      ],
      "metadata": {
        "id": "C5ycYBqEQwXw"
      }
    },
    {
      "cell_type": "code",
      "source": [
        "mytuple = (\"apple\", \"banana\", \"cherry\")\n",
        "print(type(mytuple))"
      ],
      "metadata": {
        "colab": {
          "base_uri": "https://localhost:8080/"
        },
        "id": "FSQOXLzNQypi",
        "outputId": "424e0140-c67a-425b-db4c-c5e6d30c65fe"
      },
      "execution_count": 16,
      "outputs": [
        {
          "output_type": "stream",
          "name": "stdout",
          "text": [
            "<class 'tuple'>\n"
          ]
        }
      ]
    },
    {
      "cell_type": "markdown",
      "source": [
        "tuple() 생성자도 사용가능"
      ],
      "metadata": {
        "id": "-TLuf6BzQ0LK"
      }
    },
    {
      "cell_type": "code",
      "source": [
        "thistuple = tuple((\"apple\", \"banana\", \"cherry\")) # note the double round-brackets\n",
        "print(thistuple)"
      ],
      "metadata": {
        "colab": {
          "base_uri": "https://localhost:8080/"
        },
        "id": "5yGMmIdHQ1-2",
        "outputId": "9be46260-2480-418d-e702-009ac4f9ed50"
      },
      "execution_count": 17,
      "outputs": [
        {
          "output_type": "stream",
          "name": "stdout",
          "text": [
            "('apple', 'banana', 'cherry')\n"
          ]
        }
      ]
    },
    {
      "cell_type": "markdown",
      "source": [
        "튜플에 액세스"
      ],
      "metadata": {
        "id": "fe-SxBEEQ6vs"
      }
    },
    {
      "cell_type": "code",
      "source": [
        "thistuple = (\"apple\", \"banana\", \"cherry\")\n",
        "print(thistuple[1])"
      ],
      "metadata": {
        "colab": {
          "base_uri": "https://localhost:8080/"
        },
        "id": "wCYfNzAWQ73c",
        "outputId": "f5c3f964-f4b7-445e-d37f-d8ea1333825e"
      },
      "execution_count": 18,
      "outputs": [
        {
          "output_type": "stream",
          "name": "stdout",
          "text": [
            "banana\n"
          ]
        }
      ]
    },
    {
      "cell_type": "markdown",
      "source": [
        "kiwi 제외"
      ],
      "metadata": {
        "id": "oDGf4qxrRElF"
      }
    },
    {
      "cell_type": "code",
      "source": [
        "thistuple = (\"apple\", \"banana\", \"cherry\", \"orange\", \"kiwi\", \"melon\", \"mango\")\n",
        "print(thistuple[:4])"
      ],
      "metadata": {
        "colab": {
          "base_uri": "https://localhost:8080/"
        },
        "id": "I6ewlhKURL9e",
        "outputId": "841a3997-c164-4cca-e02a-ec6debd6d186"
      },
      "execution_count": 19,
      "outputs": [
        {
          "output_type": "stream",
          "name": "stdout",
          "text": [
            "('apple', 'banana', 'cherry', 'orange')\n"
          ]
        }
      ]
    },
    {
      "cell_type": "markdown",
      "source": [
        "뒤부터 검색하려면 음수"
      ],
      "metadata": {
        "id": "ixiyeIBVRVIw"
      }
    },
    {
      "cell_type": "code",
      "source": [
        "thistuple = (\"apple\", \"banana\", \"cherry\", \"orange\", \"kiwi\", \"melon\", \"mango\")\n",
        "print(thistuple[-4:-1])"
      ],
      "metadata": {
        "colab": {
          "base_uri": "https://localhost:8080/"
        },
        "id": "qpWxzzIvRXqU",
        "outputId": "7fc27317-1663-44d2-8d01-01ac64a1809c"
      },
      "execution_count": 20,
      "outputs": [
        {
          "output_type": "stream",
          "name": "stdout",
          "text": [
            "('orange', 'kiwi', 'melon')\n"
          ]
        }
      ]
    },
    {
      "cell_type": "markdown",
      "source": [
        "튜플을 변경하려면 리스트로 사용"
      ],
      "metadata": {
        "id": "FjFiiERYReuj"
      }
    },
    {
      "cell_type": "code",
      "source": [
        "x = (\"apple\", \"banana\", \"cherry\")\n",
        "y = list(x)\n",
        "y[1] = \"kiwi\"\n",
        "x = tuple(y)\n",
        "\n",
        "print(x)"
      ],
      "metadata": {
        "colab": {
          "base_uri": "https://localhost:8080/"
        },
        "id": "zfQFCaz3Rheq",
        "outputId": "08cce3b8-3abd-4739-c0f7-212ad6e1f2c4"
      },
      "execution_count": 21,
      "outputs": [
        {
          "output_type": "stream",
          "name": "stdout",
          "text": [
            "('apple', 'kiwi', 'cherry')\n"
          ]
        }
      ]
    },
    {
      "cell_type": "markdown",
      "source": [
        "튜플에 항목 추가 1.리스트사용"
      ],
      "metadata": {
        "id": "ynEalnGoRpUT"
      }
    },
    {
      "cell_type": "code",
      "source": [
        "thistuple = (\"apple\", \"banana\", \"cherry\")\n",
        "y = list(thistuple)\n",
        "y.append(\"orange\")\n",
        "thistuple = tuple(y)\n",
        "\n",
        "print(thistuple)"
      ],
      "metadata": {
        "colab": {
          "base_uri": "https://localhost:8080/"
        },
        "id": "h3TRFGr2RtHK",
        "outputId": "239b76be-fc71-4081-815d-23717ba8c5dc"
      },
      "execution_count": 22,
      "outputs": [
        {
          "output_type": "stream",
          "name": "stdout",
          "text": [
            "('apple', 'banana', 'cherry', 'orange')\n"
          ]
        }
      ]
    },
    {
      "cell_type": "markdown",
      "source": [
        "튜플에 항목 추가 2.튜플에 튜플추가"
      ],
      "metadata": {
        "id": "6BXAwVcqR0X9"
      }
    },
    {
      "cell_type": "code",
      "source": [
        "thistuple = (\"apple\", \"banana\", \"cherry\")\n",
        "y = (\"orange\",)\n",
        "thistuple += y\n",
        "\n",
        "print(thistuple)"
      ],
      "metadata": {
        "colab": {
          "base_uri": "https://localhost:8080/"
        },
        "id": "PlKSdms8R43o",
        "outputId": "411d431d-10ae-4cc0-e451-abe96f6f9ac2"
      },
      "execution_count": 23,
      "outputs": [
        {
          "output_type": "stream",
          "name": "stdout",
          "text": [
            "('apple', 'banana', 'cherry', 'orange')\n"
          ]
        }
      ]
    },
    {
      "cell_type": "markdown",
      "source": [
        "튜플의 항목 제거"
      ],
      "metadata": {
        "id": "ptJckyhqSAgW"
      }
    },
    {
      "cell_type": "code",
      "source": [
        "thistuple = (\"apple\", \"banana\", \"cherry\")\n",
        "y = list(thistuple)\n",
        "y.remove(\"apple\")\n",
        "thistuple = tuple(y)"
      ],
      "metadata": {
        "id": "H0k4wAB1SC7T"
      },
      "execution_count": 24,
      "outputs": []
    },
    {
      "cell_type": "markdown",
      "source": [
        "del은 튜플 완전 삭제"
      ],
      "metadata": {
        "id": "Mo8TC85MSpsT"
      }
    },
    {
      "cell_type": "code",
      "source": [
        "thistuple = (\"apple\", \"banana\", \"cherry\")\n",
        "del thistuple\n",
        "print(thistuple) #this will raise an error because the tuple no longer exists"
      ],
      "metadata": {
        "colab": {
          "base_uri": "https://localhost:8080/",
          "height": 183
        },
        "id": "q7iUKEzaStho",
        "outputId": "dfa5c1e6-9732-40eb-b33b-b73c2f52a4ce"
      },
      "execution_count": 25,
      "outputs": [
        {
          "output_type": "error",
          "ename": "NameError",
          "evalue": "name 'thistuple' is not defined",
          "traceback": [
            "\u001b[0;31m---------------------------------------------------------------------------\u001b[0m",
            "\u001b[0;31mNameError\u001b[0m                                 Traceback (most recent call last)",
            "\u001b[0;32m/tmp/ipython-input-25-1828026926.py\u001b[0m in \u001b[0;36m<cell line: 0>\u001b[0;34m()\u001b[0m\n\u001b[1;32m      1\u001b[0m \u001b[0mthistuple\u001b[0m \u001b[0;34m=\u001b[0m \u001b[0;34m(\u001b[0m\u001b[0;34m\"apple\"\u001b[0m\u001b[0;34m,\u001b[0m \u001b[0;34m\"banana\"\u001b[0m\u001b[0;34m,\u001b[0m \u001b[0;34m\"cherry\"\u001b[0m\u001b[0;34m)\u001b[0m\u001b[0;34m\u001b[0m\u001b[0;34m\u001b[0m\u001b[0m\n\u001b[1;32m      2\u001b[0m \u001b[0;32mdel\u001b[0m \u001b[0mthistuple\u001b[0m\u001b[0;34m\u001b[0m\u001b[0;34m\u001b[0m\u001b[0m\n\u001b[0;32m----> 3\u001b[0;31m \u001b[0mprint\u001b[0m\u001b[0;34m(\u001b[0m\u001b[0mthistuple\u001b[0m\u001b[0;34m)\u001b[0m \u001b[0;31m#this will raise an error because the tuple no longer exists\u001b[0m\u001b[0;34m\u001b[0m\u001b[0;34m\u001b[0m\u001b[0m\n\u001b[0m",
            "\u001b[0;31mNameError\u001b[0m: name 'thistuple' is not defined"
          ]
        }
      ]
    },
    {
      "cell_type": "markdown",
      "source": [
        "튜플 패킹과 언패킹"
      ],
      "metadata": {
        "id": "bV5JNlAUSvp7"
      }
    },
    {
      "cell_type": "code",
      "source": [
        "fruits = (\"apple\", \"banana\", \"cherry\")\n",
        "\n",
        "(green, yellow, red) = fruits\n",
        "\n",
        "print(green)\n",
        "print(yellow)\n",
        "print(red)"
      ],
      "metadata": {
        "colab": {
          "base_uri": "https://localhost:8080/"
        },
        "id": "Lh1tO-SPS0ui",
        "outputId": "fb25ea8a-498e-4c7c-db8c-9debd0c70051"
      },
      "execution_count": 26,
      "outputs": [
        {
          "output_type": "stream",
          "name": "stdout",
          "text": [
            "apple\n",
            "banana\n",
            "cherry\n"
          ]
        }
      ]
    },
    {
      "cell_type": "markdown",
      "source": [
        "*사용 (변수의 개수가 값보다 적을경우 나머지 한번에 다 넣음)"
      ],
      "metadata": {
        "id": "CB7F_aFXS_9Y"
      }
    },
    {
      "cell_type": "code",
      "source": [
        "fruits = (\"apple\", \"banana\", \"cherry\", \"strawberry\", \"raspberry\")\n",
        "\n",
        "(green, yellow, *red) = fruits\n",
        "\n",
        "print(green)\n",
        "print(yellow)\n",
        "print(red)"
      ],
      "metadata": {
        "colab": {
          "base_uri": "https://localhost:8080/"
        },
        "id": "pNHJ1CDPTCf8",
        "outputId": "de33b31b-1d4b-4699-8a85-084225b65bd9"
      },
      "execution_count": 27,
      "outputs": [
        {
          "output_type": "stream",
          "name": "stdout",
          "text": [
            "apple\n",
            "banana\n",
            "['cherry', 'strawberry', 'raspberry']\n"
          ]
        }
      ]
    },
    {
      "cell_type": "code",
      "source": [
        "fruits = (\"apple\", \"mango\", \"papaya\", \"pineapple\", \"cherry\")\n",
        "\n",
        "(green, *tropic, red) = fruits\n",
        "\n",
        "print(green)\n",
        "print(tropic)\n",
        "print(red)"
      ],
      "metadata": {
        "colab": {
          "base_uri": "https://localhost:8080/"
        },
        "id": "LUQbUhDVTSJv",
        "outputId": "fe33f847-82eb-4f19-ea9e-05f9ac5509f1"
      },
      "execution_count": 28,
      "outputs": [
        {
          "output_type": "stream",
          "name": "stdout",
          "text": [
            "apple\n",
            "['mango', 'papaya', 'pineapple']\n",
            "cherry\n"
          ]
        }
      ]
    },
    {
      "cell_type": "markdown",
      "source": [
        "튜플 반복문"
      ],
      "metadata": {
        "id": "kolk0d5fTPaC"
      }
    },
    {
      "cell_type": "code",
      "source": [
        "thistuple = (\"apple\", \"banana\", \"cherry\")\n",
        "for x in thistuple:\n",
        "  print(x)"
      ],
      "metadata": {
        "colab": {
          "base_uri": "https://localhost:8080/"
        },
        "id": "vSrwJukcTaxr",
        "outputId": "432f1a6a-e814-4421-b5e1-56c0e6ca8cdb"
      },
      "execution_count": 29,
      "outputs": [
        {
          "output_type": "stream",
          "name": "stdout",
          "text": [
            "apple\n",
            "banana\n",
            "cherry\n"
          ]
        }
      ]
    },
    {
      "cell_type": "markdown",
      "source": [
        "인덱스 번호 반복"
      ],
      "metadata": {
        "id": "rvwo2JeBUN9T"
      }
    },
    {
      "cell_type": "code",
      "source": [
        "thistuple = (\"apple\", \"banana\", \"cherry\")\n",
        "for i in range(len(thistuple)):\n",
        "  print(thistuple[i])"
      ],
      "metadata": {
        "colab": {
          "base_uri": "https://localhost:8080/"
        },
        "id": "xoUsnrICUO_w",
        "outputId": "3aeeb2a9-2057-4147-f577-716c1eb5bf92"
      },
      "execution_count": 30,
      "outputs": [
        {
          "output_type": "stream",
          "name": "stdout",
          "text": [
            "apple\n",
            "banana\n",
            "cherry\n"
          ]
        }
      ]
    },
    {
      "cell_type": "markdown",
      "source": [
        "while 로 반복"
      ],
      "metadata": {
        "id": "vwdQunt1US_I"
      }
    },
    {
      "cell_type": "code",
      "source": [
        "thistuple = (\"apple\", \"banana\", \"cherry\")\n",
        "i = 0\n",
        "while i < len(thistuple):\n",
        "  print(thistuple[i])\n",
        "  i = i + 1"
      ],
      "metadata": {
        "colab": {
          "base_uri": "https://localhost:8080/"
        },
        "id": "hgDUajdoUUUG",
        "outputId": "6799ab6b-5753-499f-909c-49cff9907a1f"
      },
      "execution_count": 31,
      "outputs": [
        {
          "output_type": "stream",
          "name": "stdout",
          "text": [
            "apple\n",
            "banana\n",
            "cherry\n"
          ]
        }
      ]
    },
    {
      "cell_type": "markdown",
      "source": [
        "튜플 결합"
      ],
      "metadata": {
        "id": "umG9rOzmUYTO"
      }
    },
    {
      "cell_type": "code",
      "source": [
        "tuple1 = (\"a\", \"b\" , \"c\")\n",
        "tuple2 = (1, 2, 3)\n",
        "\n",
        "tuple3 = tuple1 + tuple2\n",
        "print(tuple3)"
      ],
      "metadata": {
        "colab": {
          "base_uri": "https://localhost:8080/"
        },
        "id": "CKolhDPoUZAN",
        "outputId": "8df0f994-f704-4d79-ccf6-ac27864250f1"
      },
      "execution_count": 32,
      "outputs": [
        {
          "output_type": "stream",
          "name": "stdout",
          "text": [
            "('a', 'b', 'c', 1, 2, 3)\n"
          ]
        }
      ]
    },
    {
      "cell_type": "markdown",
      "source": [
        "튜플 곱하기"
      ],
      "metadata": {
        "id": "NBpabiSNUamK"
      }
    },
    {
      "cell_type": "code",
      "source": [
        "fruits = (\"apple\", \"banana\", \"cherry\")\n",
        "mytuple = fruits * 2\n",
        "\n",
        "print(mytuple)"
      ],
      "metadata": {
        "colab": {
          "base_uri": "https://localhost:8080/"
        },
        "id": "nV7IL0KyUbTl",
        "outputId": "ccc4b423-f8db-43dd-d806-4688be969233"
      },
      "execution_count": 33,
      "outputs": [
        {
          "output_type": "stream",
          "name": "stdout",
          "text": [
            "('apple', 'banana', 'cherry', 'apple', 'banana', 'cherry')\n"
          ]
        }
      ]
    },
    {
      "cell_type": "markdown",
      "source": [
        "✅ 1. (좌표, 속도) 튜플로 과속 여부 판단"
      ],
      "metadata": {
        "id": "xvVnbrl2UkpI"
      }
    },
    {
      "cell_type": "code",
      "source": [
        "data = [(0, 40), (1, 55), (2, 70)]  # (시간초, 속도)\n",
        "\n",
        "for time, speed in data:\n",
        "    if speed > 50:\n",
        "        print(f\"{time}초: 과속! 현재 속도 {speed}km/h\")\n",
        "    else:\n",
        "        print(f\"{time}초: 정상 주행 중 ({speed}km/h)\")"
      ],
      "metadata": {
        "colab": {
          "base_uri": "https://localhost:8080/"
        },
        "id": "UNInlVhqUlc_",
        "outputId": "4992ee3d-858a-4e85-bb8e-6e91adbe0c5e"
      },
      "execution_count": 34,
      "outputs": [
        {
          "output_type": "stream",
          "name": "stdout",
          "text": [
            "0초: 정상 주행 중 (40km/h)\n",
            "1초: 과속! 현재 속도 55km/h\n",
            "2초: 과속! 현재 속도 70km/h\n"
          ]
        }
      ]
    },
    {
      "cell_type": "markdown",
      "source": [
        "✅ 2. (도로 타입, 현재 속도)로 속도 위반 여부 확인"
      ],
      "metadata": {
        "id": "l3W0XE8hUnOw"
      }
    },
    {
      "cell_type": "code",
      "source": [
        "speed_limit = {\n",
        "    \"고속도로\": 100,\n",
        "    \"도심\": 50,\n",
        "    \"학교 앞\": 30\n",
        "}\n",
        "\n",
        "conditions = [(\"고속도로\", 90), (\"도심\", 60), (\"학교 앞\", 25)]\n",
        "\n",
        "for road, speed in conditions:\n",
        "    if speed > speed_limit[road]:\n",
        "        print(f\"{road}에서 과속! 제한 {speed_limit[road]}km/h, 현재 {speed}km/h\")\n",
        "    else:\n",
        "        print(f\"{road} 주행 정상 ({speed}km/h)\")"
      ],
      "metadata": {
        "colab": {
          "base_uri": "https://localhost:8080/"
        },
        "id": "8Zc30CgKUoZc",
        "outputId": "1864008d-7591-4ed6-b6c4-1a7a43a404dd"
      },
      "execution_count": 35,
      "outputs": [
        {
          "output_type": "stream",
          "name": "stdout",
          "text": [
            "고속도로 주행 정상 (90km/h)\n",
            "도심에서 과속! 제한 50km/h, 현재 60km/h\n",
            "학교 앞 주행 정상 (25km/h)\n"
          ]
        }
      ]
    },
    {
      "cell_type": "markdown",
      "source": [
        "✅ 3. (장애물 위치, 종류) 튜플로 회피 전략 선택"
      ],
      "metadata": {
        "id": "NYD18o5QUpR5"
      }
    },
    {
      "cell_type": "code",
      "source": [
        "obstacles = [((10, 5), \"보행자\"), ((20, 10), \"콘\"), ((25, 15), \"자전거\")]\n",
        "\n",
        "for position, obj_type in obstacles:\n",
        "    if obj_type == \"보행자\":\n",
        "        print(f\"{position}에서 사람 감지 → 정지\")\n",
        "    else:\n",
        "        print(f\"{position}에서 {obj_type} 감지 → 우회\")\n"
      ],
      "metadata": {
        "colab": {
          "base_uri": "https://localhost:8080/"
        },
        "id": "jRIRmhBFUqBo",
        "outputId": "26bb1dfe-9c25-4884-889a-cd774c25a6b1"
      },
      "execution_count": 36,
      "outputs": [
        {
          "output_type": "stream",
          "name": "stdout",
          "text": [
            "(10, 5)에서 사람 감지 → 정지\n",
            "(20, 10)에서 콘 감지 → 우회\n",
            "(25, 15)에서 자전거 감지 → 우회\n"
          ]
        }
      ]
    },
    {
      "cell_type": "markdown",
      "source": [
        "✅ 4. (신호등 위치, 색상)으로 행동 결정"
      ],
      "metadata": {
        "id": "5TpylUnCUq4-"
      }
    },
    {
      "cell_type": "code",
      "source": [
        "traffic_lights = [((5, 5), \"green\"), ((10, 10), \"red\"), ((15, 15), \"yellow\")]\n",
        "\n",
        "for pos, color in traffic_lights:\n",
        "    if color == \"green\":\n",
        "        print(f\"{pos}: 진행\")\n",
        "    elif color == \"red\":\n",
        "        print(f\"{pos}: 정지\")\n",
        "    else:\n",
        "        print(f\"{pos}: 감속\")"
      ],
      "metadata": {
        "colab": {
          "base_uri": "https://localhost:8080/"
        },
        "id": "rRChaDm_Ure4",
        "outputId": "dc61a081-9a59-43a3-ecbf-b5c305c25d6e"
      },
      "execution_count": 37,
      "outputs": [
        {
          "output_type": "stream",
          "name": "stdout",
          "text": [
            "(5, 5): 진행\n",
            "(10, 10): 정지\n",
            "(15, 15): 감속\n"
          ]
        }
      ]
    },
    {
      "cell_type": "markdown",
      "source": [
        "✅ 5. (카메라ID, 인식 표지판)으로 주행 전략 변경"
      ],
      "metadata": {
        "id": "DWkbAZvfUsRZ"
      }
    },
    {
      "cell_type": "code",
      "source": [
        "camera_data = [(1, \"속도제한30\"), (2, \"정지\"), (3, \"좌회전\")]\n",
        "\n",
        "for cam_id, sign in camera_data:\n",
        "    print(f\"카메라 {cam_id} 감지 표지판: {sign}\")\n",
        "\n",
        "    if sign == \"속도제한30\":\n",
        "        print(\"→ 속도 30km/h로 조정\")\n",
        "    elif sign == \"정지\":\n",
        "        print(\"→ 차량 정지\")\n",
        "    elif sign == \"좌회전\":\n",
        "        print(\"→ 좌회전 준비\")"
      ],
      "metadata": {
        "colab": {
          "base_uri": "https://localhost:8080/"
        },
        "id": "IYFgQ5sLUtob",
        "outputId": "3e9f55f8-7f81-4e0b-8dbe-0657e2f3abb9"
      },
      "execution_count": 38,
      "outputs": [
        {
          "output_type": "stream",
          "name": "stdout",
          "text": [
            "카메라 1 감지 표지판: 속도제한30\n",
            "→ 속도 30km/h로 조정\n",
            "카메라 2 감지 표지판: 정지\n",
            "→ 차량 정지\n",
            "카메라 3 감지 표지판: 좌회전\n",
            "→ 좌회전 준비\n"
          ]
        }
      ]
    }
  ]
}